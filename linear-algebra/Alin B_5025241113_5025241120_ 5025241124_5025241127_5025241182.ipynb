{
 "cells": [
  {
   "cell_type": "markdown",
   "metadata": {},
   "source": [
    "## Kelompok Alin B-01 Soal No 13"
   ]
  },
  {
   "cell_type": "markdown",
   "metadata": {},
   "source": [
    "### Anggota Kelompok"
   ]
  },
  {
   "cell_type": "markdown",
   "metadata": {},
   "source": [
    "1. Rafa Huga Nirando / 5025241113\n",
    "2. Raditya Zhafran Pranuja / 5025241120\n",
    "3. Melvan Hapianan Allo Ponglabba / 5025241124\n",
    "4. Mochammad Irfan Sandy / 5025241127\n",
    "5. Hatta Adzikra Fadly / 5025241182"
   ]
  },
  {
   "cell_type": "markdown",
   "metadata": {},
   "source": [
    "### Soal"
   ]
  },
  {
   "cell_type": "markdown",
   "metadata": {},
   "source": [
    "Mencari determinan sebuah matrix menggunakan Gauss\n",
    "\n",
    "    |  4  6 -3 -2 |\n",
    "    | -8 -1  8 -3 |\n",
    "    |  9  9 -2 -3 |\n",
    "    |  4 -5  3  7 |"
   ]
  },
  {
   "cell_type": "markdown",
   "metadata": {},
   "source": [
    "## Code Gauss Jordan"
   ]
  },
  {
   "cell_type": "markdown",
   "metadata": {},
   "source": [
    "### Import Module dan Set Global Variabel Iterasi"
   ]
  },
  {
   "cell_type": "markdown",
   "metadata": {},
   "source": [
    "Import library bernama numpy agar lebih mudah memanipulasi matrix. Dan tambahkan variabel global iterasi agar semua fungsi bisa mengakses variabel tersebut"
   ]
  },
  {
   "cell_type": "code",
   "execution_count": 10,
   "metadata": {},
   "outputs": [],
   "source": [
    "import numpy as np\n",
    "\n",
    "iteration = 0"
   ]
  },
  {
   "cell_type": "markdown",
   "metadata": {},
   "source": [
    "### Membuat Fungsi Input"
   ]
  },
  {
   "cell_type": "markdown",
   "metadata": {},
   "source": [
    "Pertama kita membuat function input matrix yang mengeluarkan datatype numpy.ndarray (numpy n dimensional array). Lalu kita ambil input dari user berupa baris matrix dan kolom matrix. Setelah itu input tersebut di cek jika salah satu baris/kolom bernilai dibawah nol maka input salah. \n",
    "\n",
    "Lalu user menginput baris * kolom integer yang berbentuk string yang akan di split berdasarkan spasi dan diubah ke integer menggunakan map yang kemudian di ubah ke bentuk list. Lalu jumlah input dicek apabila tidak memenuhi baris * kolom atau user menginput selain integer. Lalu list tersebut diubah ke numpy.ndarray yang memiliki datatype np.float64 dan dibentuk sesuai baris dan kolomnya."
   ]
  },
  {
   "cell_type": "code",
   "execution_count": 11,
   "metadata": {},
   "outputs": [],
   "source": [
    "def inputMatrix() -> np.ndarray:\n",
    "    try:\n",
    "        n = int(input(\"Masukkan Jumlah Baris: \"))\n",
    "        m = int(input(\"Masukkan Jumlah Kolom: \"))\n",
    "    \n",
    "        if n <= 0 or m <= 0:\n",
    "            raise ValueError(\"Jumlah Baris dan Kolom harus lebih besar dari 0\")\n",
    "    \n",
    "        matrix = list(map(int, input(\"Masukkan koefisien-koefisien variabel: \").split()))\n",
    "    \n",
    "        if len(matrix) != n * m:\n",
    "            raise ValueError(\"Jumlah Koefisien Tidak Sesuai\")\n",
    "        return np.array(matrix, dtype=np.float64).reshape(n, m)\n",
    "    except ValueError as e:\n",
    "        print(f'Input Error: {e}')\n",
    "        exit(0)"
   ]
  },
  {
   "cell_type": "markdown",
   "metadata": {},
   "source": [
    "### Membuat Fungsi Pembantu Gauss Jordan"
   ]
  },
  {
   "cell_type": "markdown",
   "metadata": {},
   "source": [
    "Operasi basis elementer (elementary basis operation) mengubah sebuah matrix ke bentuk eselon baris (row echelon form) atau (reduced row echelon form) dengan menggunakan 3 macam perhitungan. Yaitu tukar baris (row swap), kali skalar baris (row scalar multiplication), dan penjumlahan baris (row sum).\n",
    "\n",
    "1. Tukar baris terjadi apabila baris teratas yang belum memiliki leading 1 / pivot, kolom pada baris tersebut memiliki nol dan pada baris lainnya terdapat angka yang tidak nol.\n",
    "\n",
    "2. Kali skalar baris terjadi karena dalam pencarian leading 1 / pivot sebuah baris akan dibagi oleh baris kolom pivot yang akan dicari agar mendapatkan angka 1.\n",
    "\n",
    "3. Penjumlahan baris digunakan untuk membuat nol baris lain pada suatu kolom pivot / leading 1.\n",
    "   \n",
    "Penjelasan fungsi:\n",
    "1. Fungsi rowSwap() menerima input matrix berbentuk numpy.ndarray, baris yang ingin ditukar dan baris yang akan ditukar, dan fungsi tersebut mereturn None atau Void function. Fungsi tersebut menambah global iteration, print apa yang akan dilakukan, menukar baris awal dan akhir, dan print matrix berupa numpy.ndarray.\n",
    "\n",
    "2. Fungsi rowDivide() menerima input matrix berbentuk numpy.ndarray, baris yang akan dibagi, dan kolom letak pivot / leading 1 dan mereturn None atau Void function. Fungsi tersebut menambah global iteration, print apa yang akan dilakukan, membagi baris dengan angka yang akan diubah ke 1, membulatkan 2 angka belakang koma, dan print matrix berupa numpy.ndarray.\n",
    "\n",
    "3. Fungsi rowSum() menerima input matrix berbentuk numpy.ndarray, baris yang akan ditambah, baris penambah dan kolom letak pivot / leading 1 dan mereturn None atau Void function. Fungsi tersebut menambah global iteration, print apa yang akan dilakukan, menambah baris tujuan dengan baris pivot * kolom pivot baris tujuan, membulatkan 2 angka belakang koma, dan print matrix berupa numpy.ndarray."
   ]
  },
  {
   "cell_type": "code",
   "execution_count": 12,
   "metadata": {},
   "outputs": [],
   "source": [
    "def rowSwap(matrix: np.ndarray, rowStart: int, rowEnd: int) -> None:\n",
    "    global iteration\n",
    "    iteration += 1\n",
    "    print(f'Iteration: {iteration}\\nSwapping Row {rowStart+1} and {rowEnd+1}')\n",
    "    matrix[[rowStart, rowEnd]] = matrix[[rowEnd, rowStart]]\n",
    "    print(f'{matrix}\\n')\n",
    "\n",
    "def rowDivide(matrix: np.ndarray, row: int, pivotLocation: int) -> None:\n",
    "    global iteration\n",
    "    iteration += 1\n",
    "    print(f'Iteration: {iteration}\\nDividing Row {row+1} by {matrix[row, pivotLocation]}')\n",
    "    matrix[row] = matrix[row] / matrix[row, pivotLocation]\n",
    "    np.around(matrix, 2, matrix)\n",
    "    matrix = np.where(matrix == -0, 0, matrix)\n",
    "    print(f'{matrix}\\n')\n",
    "    \n",
    "def rowSum(matrix: np.ndarray, row: int, curRow: int, curCol: int) -> None:\n",
    "    global iteration\n",
    "    iteration += 1\n",
    "    print(f'Iteration: {iteration}\\nSubtracting Row {row+1} by {matrix[curRow, :] * matrix[row, curCol]}')\n",
    "    matrix[row, :] = matrix[row, :] - (matrix[curRow, :] * matrix[row, curCol])\n",
    "    np.around(matrix, 2, matrix)\n",
    "    matrix = np.where(matrix == -0, 0, matrix)\n",
    "    print(f'{matrix}\\n')"
   ]
  },
  {
   "cell_type": "markdown",
   "metadata": {},
   "source": [
    "### Fungsi Gauss Jordan"
   ]
  },
  {
   "cell_type": "markdown",
   "metadata": {},
   "source": [
    "Fungsi gaussjordan() ini seperti namanya melakukan operasi basis elementer (elementary row operation) sehingga mendapatkan identity matrix. Fungsi ini menerima input matrix berupa numpy.ndarray dan mengoutput None atau Void Function. \n",
    "\n",
    "Secara garis besar fungsi ini mengecek apakah kolom sekarang (curRow) kosong. Jika iya dia pindah kolom. Lalu fungsi ini mengecek apakah pada kolom yang akan dicari pivotnya baris teratas yang tidak memiliki pivot bukan nol. Jika tidak maka akan di tukar dengan baris yang angkanya tidak nol. Lalu akan dilakukan kali skalar baris dan menyimpan letak pivot untuk dilakukan pengeliminasian angka diatas pivot.\n",
    "\n",
    "Setelah itu angka dibawah pivot di nol kan dengan penjumlahan baris. Apabila yang keluar adalah baris nol maka akan ditukar ke bawah dengan baris yang tidak nol. Lalu kolom dan baris ditambah satu.\n",
    "\n",
    "Jika baris atau kolom sekarang melebihi baris atau kolom sebenarnya maka akan dilakukan step kedua yaitu meng nol kan angka diatas pivot dengan penjumlahan baris."
   ]
  },
  {
   "cell_type": "code",
   "execution_count": 13,
   "metadata": {},
   "outputs": [],
   "source": [
    "def gaussjordan(matrix: np.ndarray) -> None:\n",
    "    global iteration\n",
    "    iteration = 0\n",
    "    mrow, mcol = matrix.shape\n",
    "    zeroVectorSwap = 0\n",
    "    pivot = []\n",
    "    doSum = False\n",
    "    curRow = 0\n",
    "    curCol = 0\n",
    "    \n",
    "    print(f'Input Matrix\\n{matrix}\\n')\n",
    "    \n",
    "    while curCol < mcol and curRow < mrow:\n",
    "        if not doSum and not np.any(matrix[curRow:, curCol]):\n",
    "            curCol += 1\n",
    "        elif not doSum:\n",
    "            for i in range(curRow, mrow):\n",
    "                if matrix[i, curCol] != 0:\n",
    "                    if i != curRow: rowSwap(matrix, curRow, i)\n",
    "                    if matrix[curRow, curCol] != 1: rowDivide(matrix, curRow, curCol)\n",
    "                    pivot.append([curRow, curCol])\n",
    "                    doSum = True\n",
    "                    break\n",
    "        else:\n",
    "            for i in range(curRow+1, mrow):\n",
    "                if matrix[i, curCol] != 0:\n",
    "                    rowSum(matrix, i, curRow, curCol)\n",
    "                    if not np.any(matrix[i, :]) and not i >= mrow - 1 - zeroVectorSwap:\n",
    "                        for j in range(mrow-1, -1, -1):\n",
    "                            if np.any(matrix[j, :]):\n",
    "                                determinant = determinant * -1\n",
    "                                rowSwap(matrix, i, j)\n",
    "                                zeroVectorSwap += 1\n",
    "                                rowSum(matrix, i, curRow, curCol)\n",
    "                                break\n",
    "                    elif not np.any(matrix[i, :]) and i == mrow - 1 - zeroVectorSwap:\n",
    "                        zeroVectorSwap += 1\n",
    "            doSum = False\n",
    "            curCol += 1\n",
    "            curRow += 1\n",
    "            \n",
    "    for i in range(len(pivot)-1, -1, -1):\n",
    "        for j in range(pivot[i][0]-1, -1, -1):\n",
    "            if matrix[j, pivot[i][1]] != 0:\n",
    "                rowSum(matrix, j, pivot[i][0], pivot[i][1])"
   ]
  },
  {
   "cell_type": "markdown",
   "metadata": {},
   "source": [
    "### Fungsi Main"
   ]
  },
  {
   "cell_type": "markdown",
   "metadata": {},
   "source": [
    "Fungsi yang telah dibuat tadi akan dijalankan di \"if __name__ == '__main__':\" block dengan input matrix 4x4 yaitu:\n",
    "\n",
    "    |  4  6 -3 -2 |\n",
    "    | -8 -1  8 -3 |\n",
    "    |  9  9 -2 -3 |\n",
    "    |  4 -5  3  7 |"
   ]
  },
  {
   "cell_type": "code",
   "execution_count": 14,
   "metadata": {},
   "outputs": [
    {
     "name": "stdout",
     "output_type": "stream",
     "text": [
      "Input Matrix\n",
      "[[ 4.  6. -3. -2.]\n",
      " [-8. -1.  8. -3.]\n",
      " [ 9.  9. -2. -3.]\n",
      " [ 4. -5.  3.  7.]]\n",
      "\n",
      "Iteration: 1\n",
      "Dividing Row 1 by 4.0\n",
      "[[ 1.    1.5  -0.75 -0.5 ]\n",
      " [-8.   -1.    8.   -3.  ]\n",
      " [ 9.    9.   -2.   -3.  ]\n",
      " [ 4.   -5.    3.    7.  ]]\n",
      "\n",
      "Iteration: 2\n",
      "Subtracting Row 2 by [ -8. -12.   6.   4.]\n",
      "[[ 1.    1.5  -0.75 -0.5 ]\n",
      " [ 0.   11.    2.   -7.  ]\n",
      " [ 9.    9.   -2.   -3.  ]\n",
      " [ 4.   -5.    3.    7.  ]]\n",
      "\n",
      "Iteration: 3\n",
      "Subtracting Row 3 by [ 9.   13.5  -6.75 -4.5 ]\n",
      "[[ 1.    1.5  -0.75 -0.5 ]\n",
      " [ 0.   11.    2.   -7.  ]\n",
      " [ 0.   -4.5   4.75  1.5 ]\n",
      " [ 4.   -5.    3.    7.  ]]\n",
      "\n",
      "Iteration: 4\n",
      "Subtracting Row 4 by [ 4.  6. -3. -2.]\n",
      "[[  1.     1.5   -0.75  -0.5 ]\n",
      " [  0.    11.     2.    -7.  ]\n",
      " [  0.    -4.5    4.75   1.5 ]\n",
      " [  0.   -11.     6.     9.  ]]\n",
      "\n",
      "Iteration: 5\n",
      "Dividing Row 2 by 11.0\n",
      "[[  1.     1.5   -0.75  -0.5 ]\n",
      " [  0.     1.     0.18  -0.64]\n",
      " [  0.    -4.5    4.75   1.5 ]\n",
      " [  0.   -11.     6.     9.  ]]\n",
      "\n",
      "Iteration: 6\n",
      "Subtracting Row 3 by [-0.   -4.5  -0.81  2.88]\n",
      "[[  1.     1.5   -0.75  -0.5 ]\n",
      " [  0.     1.     0.18  -0.64]\n",
      " [  0.     0.     5.56  -1.38]\n",
      " [  0.   -11.     6.     9.  ]]\n",
      "\n",
      "Iteration: 7\n",
      "Subtracting Row 4 by [ -0.   -11.    -1.98   7.04]\n",
      "[[ 1.    1.5  -0.75 -0.5 ]\n",
      " [ 0.    1.    0.18 -0.64]\n",
      " [ 0.    0.    5.56 -1.38]\n",
      " [ 0.    0.    7.98  1.96]]\n",
      "\n",
      "Iteration: 8\n",
      "Dividing Row 3 by 5.56\n",
      "[[ 1.    1.5  -0.75 -0.5 ]\n",
      " [ 0.    1.    0.18 -0.64]\n",
      " [ 0.    0.    1.   -0.25]\n",
      " [ 0.    0.    7.98  1.96]]\n",
      "\n",
      "Iteration: 9\n",
      "Subtracting Row 4 by [ 0.     0.     7.98  -1.995]\n",
      "[[ 1.    1.5  -0.75 -0.5 ]\n",
      " [ 0.    1.    0.18 -0.64]\n",
      " [ 0.    0.    1.   -0.25]\n",
      " [ 0.    0.    0.    3.96]]\n",
      "\n",
      "Iteration: 10\n",
      "Dividing Row 4 by 3.96\n",
      "[[ 1.    1.5  -0.75 -0.5 ]\n",
      " [ 0.    1.    0.18 -0.64]\n",
      " [ 0.    0.    1.   -0.25]\n",
      " [ 0.    0.    0.    1.  ]]\n",
      "\n",
      "Iteration: 11\n",
      "Subtracting Row 3 by [-0.   -0.   -0.   -0.25]\n",
      "[[ 1.    1.5  -0.75 -0.5 ]\n",
      " [ 0.    1.    0.18 -0.64]\n",
      " [ 0.    0.    1.    0.  ]\n",
      " [ 0.    0.    0.    1.  ]]\n",
      "\n",
      "Iteration: 12\n",
      "Subtracting Row 2 by [-0.   -0.   -0.   -0.64]\n",
      "[[ 1.    1.5  -0.75 -0.5 ]\n",
      " [ 0.    1.    0.18  0.  ]\n",
      " [ 0.    0.    1.    0.  ]\n",
      " [ 0.    0.    0.    1.  ]]\n",
      "\n",
      "Iteration: 13\n",
      "Subtracting Row 1 by [-0.  -0.  -0.  -0.5]\n",
      "[[ 1.    1.5  -0.75  0.  ]\n",
      " [ 0.    1.    0.18  0.  ]\n",
      " [ 0.    0.    1.    0.  ]\n",
      " [ 0.    0.    0.    1.  ]]\n",
      "\n",
      "Iteration: 14\n",
      "Subtracting Row 2 by [0.   0.   0.18 0.  ]\n",
      "[[ 1.    1.5  -0.75  0.  ]\n",
      " [ 0.    1.    0.    0.  ]\n",
      " [ 0.    0.    1.    0.  ]\n",
      " [ 0.    0.    0.    1.  ]]\n",
      "\n",
      "Iteration: 15\n",
      "Subtracting Row 1 by [-0.   -0.   -0.75 -0.  ]\n",
      "[[1.  1.5 0.  0. ]\n",
      " [0.  1.  0.  0. ]\n",
      " [0.  0.  1.  0. ]\n",
      " [0.  0.  0.  1. ]]\n",
      "\n",
      "Iteration: 16\n",
      "Subtracting Row 1 by [0.  1.5 0.  0. ]\n",
      "[[1. 0. 0. 0.]\n",
      " [0. 1. 0. 0.]\n",
      " [0. 0. 1. 0.]\n",
      " [0. 0. 0. 1.]]\n",
      "\n"
     ]
    }
   ],
   "source": [
    "if __name__ == '__main__':\n",
    "    matrix = np.array([4, 6, -3, -2, -8, -1, 8, -3, 9, 9, -2, -3, 4, -5, 3, 7], dtype=np.float64).reshape(4, 4)\n",
    "    gaussjordan(matrix)"
   ]
  },
  {
   "cell_type": "markdown",
   "metadata": {},
   "source": [
    "## Code Determinant Dengan Gauss"
   ]
  },
  {
   "cell_type": "markdown",
   "metadata": {},
   "source": [
    "### Fungsi Mencari Determinan Menggunakan Gauss"
   ]
  },
  {
   "cell_type": "markdown",
   "metadata": {},
   "source": [
    "Fungsi gaussDeterminant() ini sama seperti gaussJordan() tetapi letak perbedaannya terdapat pada output dan steps nya. Fungsi ini mereturn float yaitu determinant sebuah matrix.\n",
    "\n",
    "Determinant akan terpengaruh apabila:\n",
    "1. Operasi basis elementer swap row akan mengalikan Determinant sementara dengan -1\n",
    "2. Operasi basis elementer kali skalar baris akan mengalikan Determinant sementara dengan pengali nya"
   ]
  },
  {
   "cell_type": "code",
   "execution_count": 15,
   "metadata": {},
   "outputs": [],
   "source": [
    "def gaussDeterminant(matrix: np.ndarray) -> float:\n",
    "    global iteration\n",
    "    iteration = 0\n",
    "    mrow, mcol = matrix.shape\n",
    "    determinant:float = 1\n",
    "    zeroVectorSwap = 0\n",
    "    doSum = False\n",
    "    curRow = 0\n",
    "    curCol = 0\n",
    "    \n",
    "    print(f'Input Matrix\\n{matrix}\\n')\n",
    "    \n",
    "    while curCol < mcol and curRow < mrow:\n",
    "        if not doSum and not np.any(matrix[curRow:, curCol]):\n",
    "            curCol += 1\n",
    "        elif not doSum:\n",
    "            for i in range(curRow, mrow):\n",
    "                if matrix[i, curCol] != 0:\n",
    "                    if i != curRow: \n",
    "                        determinant = determinant * -1\n",
    "                        rowSwap(matrix, curRow, i)\n",
    "                    if matrix[curRow, curCol] != 1: \n",
    "                        determinant = determinant * matrix[curRow, curCol]\n",
    "                        rowDivide(matrix, curRow, curCol)\n",
    "                    doSum = True\n",
    "                    break\n",
    "        else:\n",
    "            for i in range(curRow+1, mrow):\n",
    "                if matrix[i, curCol] != 0:\n",
    "                    rowSum(matrix, i, curRow, curCol)\n",
    "                    if not np.any(matrix[i, :]) and not i >= mrow - 1 - zeroVectorSwap:\n",
    "                        for j in range(mrow-1, -1, -1):\n",
    "                            if np.any(matrix[j, :]):\n",
    "                                determinant = determinant * -1\n",
    "                                rowSwap(matrix, i, j)\n",
    "                                zeroVectorSwap += 1\n",
    "                                rowSum(matrix, i, curRow, curCol)\n",
    "                                break\n",
    "                    elif not np.any(matrix[i, :]) and i == mrow - 1 - zeroVectorSwap:\n",
    "                        zeroVectorSwap += 1\n",
    "            doSum = False\n",
    "            curCol += 1\n",
    "            curRow += 1\n",
    "    return determinant"
   ]
  },
  {
   "cell_type": "markdown",
   "metadata": {},
   "source": [
    "### Fungsi Main Determinan"
   ]
  },
  {
   "cell_type": "markdown",
   "metadata": {},
   "source": [
    "Fungsi yang telah dibuat tadi akan dijalankan di \"if __name__ == '__main__':\" block dengan input matrix 4x4 yaitu:\n",
    "\n",
    "    |  4  6 -3 -2 |\n",
    "    | -8 -1  8 -3 |\n",
    "    |  9  9 -2 -3 |\n",
    "    |  4 -5  3  7 |"
   ]
  },
  {
   "cell_type": "code",
   "execution_count": 16,
   "metadata": {},
   "outputs": [
    {
     "name": "stdout",
     "output_type": "stream",
     "text": [
      "Input Matrix\n",
      "[[ 4.  6. -3. -2.]\n",
      " [-8. -1.  8. -3.]\n",
      " [ 9.  9. -2. -3.]\n",
      " [ 4. -5.  3.  7.]]\n",
      "\n",
      "Iteration: 1\n",
      "Dividing Row 1 by 4.0\n",
      "[[ 1.    1.5  -0.75 -0.5 ]\n",
      " [-8.   -1.    8.   -3.  ]\n",
      " [ 9.    9.   -2.   -3.  ]\n",
      " [ 4.   -5.    3.    7.  ]]\n",
      "\n",
      "Iteration: 2\n",
      "Subtracting Row 2 by [ -8. -12.   6.   4.]\n",
      "[[ 1.    1.5  -0.75 -0.5 ]\n",
      " [ 0.   11.    2.   -7.  ]\n",
      " [ 9.    9.   -2.   -3.  ]\n",
      " [ 4.   -5.    3.    7.  ]]\n",
      "\n",
      "Iteration: 3\n",
      "Subtracting Row 3 by [ 9.   13.5  -6.75 -4.5 ]\n",
      "[[ 1.    1.5  -0.75 -0.5 ]\n",
      " [ 0.   11.    2.   -7.  ]\n",
      " [ 0.   -4.5   4.75  1.5 ]\n",
      " [ 4.   -5.    3.    7.  ]]\n",
      "\n",
      "Iteration: 4\n",
      "Subtracting Row 4 by [ 4.  6. -3. -2.]\n",
      "[[  1.     1.5   -0.75  -0.5 ]\n",
      " [  0.    11.     2.    -7.  ]\n",
      " [  0.    -4.5    4.75   1.5 ]\n",
      " [  0.   -11.     6.     9.  ]]\n",
      "\n",
      "Iteration: 5\n",
      "Dividing Row 2 by 11.0\n",
      "[[  1.     1.5   -0.75  -0.5 ]\n",
      " [  0.     1.     0.18  -0.64]\n",
      " [  0.    -4.5    4.75   1.5 ]\n",
      " [  0.   -11.     6.     9.  ]]\n",
      "\n",
      "Iteration: 6\n",
      "Subtracting Row 3 by [-0.   -4.5  -0.81  2.88]\n",
      "[[  1.     1.5   -0.75  -0.5 ]\n",
      " [  0.     1.     0.18  -0.64]\n",
      " [  0.     0.     5.56  -1.38]\n",
      " [  0.   -11.     6.     9.  ]]\n",
      "\n",
      "Iteration: 7\n",
      "Subtracting Row 4 by [ -0.   -11.    -1.98   7.04]\n",
      "[[ 1.    1.5  -0.75 -0.5 ]\n",
      " [ 0.    1.    0.18 -0.64]\n",
      " [ 0.    0.    5.56 -1.38]\n",
      " [ 0.    0.    7.98  1.96]]\n",
      "\n",
      "Iteration: 8\n",
      "Dividing Row 3 by 5.56\n",
      "[[ 1.    1.5  -0.75 -0.5 ]\n",
      " [ 0.    1.    0.18 -0.64]\n",
      " [ 0.    0.    1.   -0.25]\n",
      " [ 0.    0.    7.98  1.96]]\n",
      "\n",
      "Iteration: 9\n",
      "Subtracting Row 4 by [ 0.     0.     7.98  -1.995]\n",
      "[[ 1.    1.5  -0.75 -0.5 ]\n",
      " [ 0.    1.    0.18 -0.64]\n",
      " [ 0.    0.    1.   -0.25]\n",
      " [ 0.    0.    0.    3.96]]\n",
      "\n",
      "Iteration: 10\n",
      "Dividing Row 4 by 3.96\n",
      "[[ 1.    1.5  -0.75 -0.5 ]\n",
      " [ 0.    1.    0.18 -0.64]\n",
      " [ 0.    0.    1.   -0.25]\n",
      " [ 0.    0.    0.    1.  ]]\n",
      "\n",
      "Determinant: 968.7743999999999\n"
     ]
    }
   ],
   "source": [
    "if __name__ == '__main__':\n",
    "    matrix = np.array([4, 6, -3, -2, -8, -1, 8, -3, 9, 9, -2, -3, 4, -5, 3, 7], dtype=np.float64).reshape(4, 4)\n",
    "    print(f'Determinant: {gaussDeterminant(matrix)}')"
   ]
  },
  {
   "cell_type": "markdown",
   "metadata": {},
   "source": [
    "### Bandingkan Dengan Fungsi BuiltIn Numpy"
   ]
  },
  {
   "cell_type": "markdown",
   "metadata": {},
   "source": [
    "Kita bandingkan determinan sebelumnya dengan determinan yang dihitung dengan cara SMA menggunakan numpy.linalg.det(). Hasilnya berbeda tapi tidak jauh, perbedaan tersebut keluar akibat error pada perhitungan karena perhitungan kita cuma 2 angka dibelakang koma."
   ]
  },
  {
   "cell_type": "code",
   "execution_count": 17,
   "metadata": {},
   "outputs": [
    {
     "name": "stdout",
     "output_type": "stream",
     "text": [
      "970.000000000001\n"
     ]
    }
   ],
   "source": [
    "if __name__ == '__main__':\n",
    "    matrix = np.array([4, 6, -3, -2, -8, -1, 8, -3, 9, 9, -2, -3, 4, -5, 3, 7], dtype=np.float64).reshape(4, 4)\n",
    "    print(np.linalg.det(matrix))"
   ]
  }
 ],
 "metadata": {
  "kernelspec": {
   "display_name": "Python 3",
   "language": "python",
   "name": "python3"
  },
  "language_info": {
   "codemirror_mode": {
    "name": "ipython",
    "version": 3
   },
   "file_extension": ".py",
   "mimetype": "text/x-python",
   "name": "python",
   "nbconvert_exporter": "python",
   "pygments_lexer": "ipython3",
   "version": "3.9.19"
  }
 },
 "nbformat": 4,
 "nbformat_minor": 2
}
